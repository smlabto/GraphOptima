{
 "cells": [
  {
   "cell_type": "code",
   "execution_count": 1,
   "id": "e84ba502-8752-4d4c-84d5-b6a732603c3f",
   "metadata": {},
   "source": [
    "import graph_tool.all as gt\n",
    "from readability_optimization.input_graphs import csv2tsv\n",
    "import os"
   ],
   "outputs": []
  },
  {
   "cell_type": "code",
   "execution_count": 2,
   "id": "f773e4e8-b5a8-42ff-94bd-950bc14f7f1a",
   "metadata": {},
   "source": "GRAPHML_FILE = \"Ukraine_Feb_24_2022.graphml\"",
   "outputs": []
  },
  {
   "cell_type": "code",
   "execution_count": 3,
   "id": "6e7a4460-10f2-4d62-93fd-6fb3324a0561",
   "metadata": {},
   "source": [
    "g = gt.load_graph(GRAPHML_FILE)"
   ],
   "outputs": []
  },
  {
   "cell_type": "code",
   "execution_count": 4,
   "id": "4142f779-1bd7-4b19-bae6-45c1bd0ae460",
   "metadata": {},
   "source": [
    "print(\"Number of nodes: \" + str(g.num_vertices()))\n",
    "print(\"Number of edges: \" + str(g.num_edges()))"
   ],
   "outputs": []
  },
  {
   "cell_type": "code",
   "execution_count": 5,
   "id": "52267cd6-9812-4259-9c02-9d53cda64e55",
   "metadata": {},
   "source": [
    "# get all the nodes property\n",
    "vprop = g.vertex_properties\n",
    "# get all the edges property\n",
    "eprop = g.edge_properties"
   ],
   "outputs": []
  },
  {
   "cell_type": "code",
   "execution_count": 17,
   "id": "662397fb-b77d-425c-bfe2-151d6769daa9",
   "metadata": {},
   "source": [
    "vertex_list = list(g.vertices())"
   ],
   "outputs": []
  },
  {
   "cell_type": "code",
   "execution_count": 34,
   "id": "49a778b2-be58-4bb4-a638-7a66ee69d169",
   "metadata": {},
   "source": [
    "for vp in g.vertex_properties:\n",
    "    print(vp + \": \" + str(g.vertex_properties[vp][0]))"
   ],
   "outputs": []
  },
  {
   "cell_type": "code",
   "execution_count": 33,
   "id": "78e8bdd7-022b-4dc5-9c99-9ac60365c6e0",
   "metadata": {},
   "source": [
    "for vp in list(g.vertex_properties):\n",
    "    del g.vertex_properties[vp]"
   ],
   "outputs": []
  },
  {
   "cell_type": "code",
   "execution_count": 26,
   "id": "c8173e38-12cf-4c3a-a404-0df06afac73a",
   "metadata": {},
   "source": [
    "edge_list = list(g.edges())"
   ],
   "outputs": []
  },
  {
   "cell_type": "code",
   "execution_count": 36,
   "id": "6fb0ebb7-c47c-4487-9d7a-11e8ed90db90",
   "metadata": {},
   "source": [
    "for e in eprop:\n",
    "    print(e + \": \" + str(g.ep[e][edge_list[0]]))"
   ],
   "outputs": []
  },
  {
   "cell_type": "code",
   "execution_count": 35,
   "id": "750ddd4b-e315-47ff-b87c-dcb349b486e3",
   "metadata": {},
   "source": [
    "for ep in list(g.edge_properties):\n",
    "    del g.edge_properties[ep]"
   ],
   "outputs": []
  },
  {
   "cell_type": "code",
   "execution_count": 37,
   "id": "b7a0e79d-1609-4cd0-b2ea-d7e91e168e32",
   "metadata": {},
   "source": [
    "parallel_edges = gt.label_parallel_edges(g)\n",
    "gt.remove_labeled_edges(g, parallel_edges)\n",
    "\n",
    "self_loops = gt.label_self_loops(g)\n",
    "gt.remove_labeled_edges(g, self_loops)\n",
    "\n",
    "# mark all 0 degree nodes\n",
    "zero_degree_nodes = []\n",
    "for v in g.vertices():\n",
    "    if v.out_degree() == 0 and v.in_degree() == 0:\n",
    "        zero_degree_nodes.append(v)\n",
    "\n",
    "# remove all 0 degree nodes\n",
    "g.remove_vertex(zero_degree_nodes)"
   ],
   "outputs": []
  },
  {
   "cell_type": "code",
   "execution_count": 38,
   "id": "58b769c1-569c-4417-afe2-31b985574327",
   "metadata": {},
   "source": "GRAPHML_FILE = \"Ukraine_Feb_24_2022_clean.graphml\"",
   "outputs": []
  },
  {
   "cell_type": "code",
   "execution_count": 39,
   "id": "ae2c35ee-a724-4aea-b390-b8633bdaff49",
   "metadata": {},
   "source": [
    "g.save(GRAPHML_FILE)"
   ],
   "outputs": []
  },
  {
   "cell_type": "code",
   "source": [
    "os.system(\"python graphml2csv.py -i Ukraine_Feb_24_2022_clean.graphml\")"
   ],
   "metadata": {
    "collapsed": false
   },
   "id": "f8c6577960894e88",
   "execution_count": null,
   "outputs": []
  },
  {
   "cell_type": "code",
   "source": [
    "csv2tsv(\"Ukraine_Feb_24_2022_clean-edges.csv\")"
   ],
   "metadata": {
    "collapsed": false
   },
   "id": "6863941299f82198",
   "execution_count": null,
   "outputs": []
  }
 ],
 "metadata": {
  "kernelspec": {
   "display_name": "Python 3 (ipykernel)",
   "language": "python",
   "name": "python3"
  },
  "language_info": {
   "codemirror_mode": {
    "name": "ipython",
    "version": 3
   },
   "file_extension": ".py",
   "mimetype": "text/x-python",
   "name": "python",
   "nbconvert_exporter": "python",
   "pygments_lexer": "ipython3",
   "version": "3.9.15"
  }
 },
 "nbformat": 4,
 "nbformat_minor": 5
}
